{
  "nbformat": 4,
  "nbformat_minor": 0,
  "metadata": {
    "colab": {
      "name": "Base de Dados.ipynb",
      "version": "0.3.2",
      "provenance": [],
      "include_colab_link": true
    },
    "kernelspec": {
      "display_name": "Python 3",
      "language": "python",
      "name": "python3"
    }
  },
  "cells": [
    {
      "cell_type": "markdown",
      "metadata": {
        "id": "view-in-github",
        "colab_type": "text"
      },
      "source": [
        "<a href=\"https://colab.research.google.com/github/Davholl/Data-Science/blob/master/Base_de_Dados.ipynb\" target=\"_parent\"><img src=\"https://colab.research.google.com/assets/colab-badge.svg\" alt=\"Open In Colab\"/></a>"
      ]
    },
    {
      "metadata": {
        "id": "vcQWUfLOSqgd",
        "colab_type": "text"
      },
      "cell_type": "markdown",
      "source": [
        "# Relatório de Análise I"
      ]
    },
    {
      "metadata": {
        "id": "Xv8bgWo0Sqgl",
        "colab_type": "text"
      },
      "cell_type": "markdown",
      "source": [
        "## Importando a Base de Dados"
      ]
    },
    {
      "metadata": {
        "id": "2WXfgJtgSqgq",
        "colab_type": "code",
        "colab": {}
      },
      "cell_type": "code",
      "source": [
        "import pandas as pd\n",
        "\n",
        "dados = pd.read_csv('aluguel.csv', sep=';')"
      ],
      "execution_count": 0,
      "outputs": []
    },
    {
      "metadata": {
        "id": "_F3wnntESqg7",
        "colab_type": "code",
        "colab": {},
        "outputId": "f9bcdf17-3934-45c0-9a26-9b68729db77e"
      },
      "cell_type": "code",
      "source": [
        "type(dados)"
      ],
      "execution_count": 0,
      "outputs": [
        {
          "output_type": "execute_result",
          "data": {
            "text/plain": [
              "pandas.core.frame.DataFrame"
            ]
          },
          "metadata": {
            "tags": []
          },
          "execution_count": 7
        }
      ]
    },
    {
      "metadata": {
        "id": "7dwLfwZGSqhQ",
        "colab_type": "code",
        "colab": {},
        "outputId": "51ec4c74-8435-4c87-fbe9-19945e6c480d"
      },
      "cell_type": "code",
      "source": [
        "dados.info()"
      ],
      "execution_count": 0,
      "outputs": [
        {
          "output_type": "stream",
          "text": [
            "<class 'pandas.core.frame.DataFrame'>\n",
            "RangeIndex: 32960 entries, 0 to 32959\n",
            "Data columns (total 9 columns):\n",
            "Tipo          32960 non-null object\n",
            "Bairro        32960 non-null object\n",
            "Quartos       32960 non-null int64\n",
            "Vagas         32960 non-null int64\n",
            "Suites        32960 non-null int64\n",
            "Area          32960 non-null int64\n",
            "Valor         32943 non-null float64\n",
            "Condominio    28867 non-null float64\n",
            "IPTU          22723 non-null float64\n",
            "dtypes: float64(3), int64(4), object(2)\n",
            "memory usage: 2.3+ MB\n"
          ],
          "name": "stdout"
        }
      ]
    },
    {
      "metadata": {
        "id": "ScJrtg2fSqhe",
        "colab_type": "code",
        "colab": {},
        "outputId": "3cfb5c78-6b96-43b2-a57f-e0755953ff97"
      },
      "cell_type": "code",
      "source": [
        "dados.head(10)"
      ],
      "execution_count": 0,
      "outputs": [
        {
          "output_type": "execute_result",
          "data": {
            "text/html": [
              "<div>\n",
              "<style scoped>\n",
              "    .dataframe tbody tr th:only-of-type {\n",
              "        vertical-align: middle;\n",
              "    }\n",
              "\n",
              "    .dataframe tbody tr th {\n",
              "        vertical-align: top;\n",
              "    }\n",
              "\n",
              "    .dataframe thead th {\n",
              "        text-align: right;\n",
              "    }\n",
              "</style>\n",
              "<table border=\"1\" class=\"dataframe\">\n",
              "  <thead>\n",
              "    <tr style=\"text-align: right;\">\n",
              "      <th></th>\n",
              "      <th>Tipo</th>\n",
              "      <th>Bairro</th>\n",
              "      <th>Quartos</th>\n",
              "      <th>Vagas</th>\n",
              "      <th>Suites</th>\n",
              "      <th>Area</th>\n",
              "      <th>Valor</th>\n",
              "      <th>Condominio</th>\n",
              "      <th>IPTU</th>\n",
              "    </tr>\n",
              "  </thead>\n",
              "  <tbody>\n",
              "    <tr>\n",
              "      <th>0</th>\n",
              "      <td>Quitinete</td>\n",
              "      <td>Copacabana</td>\n",
              "      <td>1</td>\n",
              "      <td>0</td>\n",
              "      <td>0</td>\n",
              "      <td>40</td>\n",
              "      <td>1700.0</td>\n",
              "      <td>500.0</td>\n",
              "      <td>60.0</td>\n",
              "    </tr>\n",
              "    <tr>\n",
              "      <th>1</th>\n",
              "      <td>Casa</td>\n",
              "      <td>Jardim Botânico</td>\n",
              "      <td>2</td>\n",
              "      <td>0</td>\n",
              "      <td>1</td>\n",
              "      <td>100</td>\n",
              "      <td>7000.0</td>\n",
              "      <td>NaN</td>\n",
              "      <td>NaN</td>\n",
              "    </tr>\n",
              "    <tr>\n",
              "      <th>2</th>\n",
              "      <td>Conjunto Comercial/Sala</td>\n",
              "      <td>Barra da Tijuca</td>\n",
              "      <td>0</td>\n",
              "      <td>4</td>\n",
              "      <td>0</td>\n",
              "      <td>150</td>\n",
              "      <td>5200.0</td>\n",
              "      <td>4020.0</td>\n",
              "      <td>1111.0</td>\n",
              "    </tr>\n",
              "    <tr>\n",
              "      <th>3</th>\n",
              "      <td>Apartamento</td>\n",
              "      <td>Centro</td>\n",
              "      <td>1</td>\n",
              "      <td>0</td>\n",
              "      <td>0</td>\n",
              "      <td>15</td>\n",
              "      <td>800.0</td>\n",
              "      <td>390.0</td>\n",
              "      <td>20.0</td>\n",
              "    </tr>\n",
              "    <tr>\n",
              "      <th>4</th>\n",
              "      <td>Apartamento</td>\n",
              "      <td>Higienópolis</td>\n",
              "      <td>1</td>\n",
              "      <td>0</td>\n",
              "      <td>0</td>\n",
              "      <td>48</td>\n",
              "      <td>800.0</td>\n",
              "      <td>230.0</td>\n",
              "      <td>NaN</td>\n",
              "    </tr>\n",
              "    <tr>\n",
              "      <th>5</th>\n",
              "      <td>Apartamento</td>\n",
              "      <td>Vista Alegre</td>\n",
              "      <td>3</td>\n",
              "      <td>1</td>\n",
              "      <td>0</td>\n",
              "      <td>70</td>\n",
              "      <td>1200.0</td>\n",
              "      <td>NaN</td>\n",
              "      <td>NaN</td>\n",
              "    </tr>\n",
              "    <tr>\n",
              "      <th>6</th>\n",
              "      <td>Apartamento</td>\n",
              "      <td>Cachambi</td>\n",
              "      <td>2</td>\n",
              "      <td>0</td>\n",
              "      <td>0</td>\n",
              "      <td>50</td>\n",
              "      <td>1300.0</td>\n",
              "      <td>301.0</td>\n",
              "      <td>17.0</td>\n",
              "    </tr>\n",
              "    <tr>\n",
              "      <th>7</th>\n",
              "      <td>Casa de Condomínio</td>\n",
              "      <td>Barra da Tijuca</td>\n",
              "      <td>5</td>\n",
              "      <td>4</td>\n",
              "      <td>5</td>\n",
              "      <td>750</td>\n",
              "      <td>22000.0</td>\n",
              "      <td>NaN</td>\n",
              "      <td>NaN</td>\n",
              "    </tr>\n",
              "    <tr>\n",
              "      <th>8</th>\n",
              "      <td>Casa de Condomínio</td>\n",
              "      <td>Ramos</td>\n",
              "      <td>2</td>\n",
              "      <td>2</td>\n",
              "      <td>0</td>\n",
              "      <td>65</td>\n",
              "      <td>1000.0</td>\n",
              "      <td>NaN</td>\n",
              "      <td>NaN</td>\n",
              "    </tr>\n",
              "    <tr>\n",
              "      <th>9</th>\n",
              "      <td>Conjunto Comercial/Sala</td>\n",
              "      <td>Centro</td>\n",
              "      <td>0</td>\n",
              "      <td>3</td>\n",
              "      <td>0</td>\n",
              "      <td>695</td>\n",
              "      <td>35000.0</td>\n",
              "      <td>19193.0</td>\n",
              "      <td>3030.0</td>\n",
              "    </tr>\n",
              "  </tbody>\n",
              "</table>\n",
              "</div>"
            ],
            "text/plain": [
              "                      Tipo           Bairro  Quartos  Vagas  Suites  Area  \\\n",
              "0                Quitinete       Copacabana        1      0       0    40   \n",
              "1                     Casa  Jardim Botânico        2      0       1   100   \n",
              "2  Conjunto Comercial/Sala  Barra da Tijuca        0      4       0   150   \n",
              "3              Apartamento           Centro        1      0       0    15   \n",
              "4              Apartamento     Higienópolis        1      0       0    48   \n",
              "5              Apartamento     Vista Alegre        3      1       0    70   \n",
              "6              Apartamento         Cachambi        2      0       0    50   \n",
              "7       Casa de Condomínio  Barra da Tijuca        5      4       5   750   \n",
              "8       Casa de Condomínio            Ramos        2      2       0    65   \n",
              "9  Conjunto Comercial/Sala           Centro        0      3       0   695   \n",
              "\n",
              "     Valor  Condominio    IPTU  \n",
              "0   1700.0       500.0    60.0  \n",
              "1   7000.0         NaN     NaN  \n",
              "2   5200.0      4020.0  1111.0  \n",
              "3    800.0       390.0    20.0  \n",
              "4    800.0       230.0     NaN  \n",
              "5   1200.0         NaN     NaN  \n",
              "6   1300.0       301.0    17.0  \n",
              "7  22000.0         NaN     NaN  \n",
              "8   1000.0         NaN     NaN  \n",
              "9  35000.0     19193.0  3030.0  "
            ]
          },
          "metadata": {
            "tags": []
          },
          "execution_count": 10
        }
      ]
    },
    {
      "metadata": {
        "id": "u4c6ymceSqhp",
        "colab_type": "text"
      },
      "cell_type": "markdown",
      "source": [
        "## Informações Gerais sobre a Base de Dados"
      ]
    },
    {
      "metadata": {
        "id": "cs0dDm10Sqhr",
        "colab_type": "code",
        "colab": {},
        "outputId": "2237d885-b01c-46b8-ac7d-dc55cc3ee2fd"
      },
      "cell_type": "code",
      "source": [
        "dados.dtypes"
      ],
      "execution_count": 0,
      "outputs": [
        {
          "output_type": "execute_result",
          "data": {
            "text/plain": [
              "Tipo           object\n",
              "Bairro         object\n",
              "Quartos         int64\n",
              "Vagas           int64\n",
              "Suites          int64\n",
              "Area            int64\n",
              "Valor         float64\n",
              "Condominio    float64\n",
              "IPTU          float64\n",
              "dtype: object"
            ]
          },
          "metadata": {
            "tags": []
          },
          "execution_count": 11
        }
      ]
    },
    {
      "metadata": {
        "id": "XSY3wZaPSqh5",
        "colab_type": "code",
        "colab": {}
      },
      "cell_type": "code",
      "source": [
        "tipos_de_dados = pd.DataFrame(dados.dtypes, columns = ['Tipos de Dados'])"
      ],
      "execution_count": 0,
      "outputs": []
    },
    {
      "metadata": {
        "id": "CjcFs7tGSqiI",
        "colab_type": "code",
        "colab": {}
      },
      "cell_type": "code",
      "source": [
        "tipos_de_dados.columns.name = \"Variáveis\""
      ],
      "execution_count": 0,
      "outputs": []
    },
    {
      "metadata": {
        "id": "CChIHbFBSqih",
        "colab_type": "code",
        "colab": {},
        "outputId": "851ca796-862c-42d5-b683-e83635ac38cf"
      },
      "cell_type": "code",
      "source": [
        "tipos_de_dados"
      ],
      "execution_count": 0,
      "outputs": [
        {
          "output_type": "execute_result",
          "data": {
            "text/html": [
              "<div>\n",
              "<style scoped>\n",
              "    .dataframe tbody tr th:only-of-type {\n",
              "        vertical-align: middle;\n",
              "    }\n",
              "\n",
              "    .dataframe tbody tr th {\n",
              "        vertical-align: top;\n",
              "    }\n",
              "\n",
              "    .dataframe thead th {\n",
              "        text-align: right;\n",
              "    }\n",
              "</style>\n",
              "<table border=\"1\" class=\"dataframe\">\n",
              "  <thead>\n",
              "    <tr style=\"text-align: right;\">\n",
              "      <th>Variáveis</th>\n",
              "      <th>Tipos de Dados</th>\n",
              "    </tr>\n",
              "  </thead>\n",
              "  <tbody>\n",
              "    <tr>\n",
              "      <th>Tipo</th>\n",
              "      <td>object</td>\n",
              "    </tr>\n",
              "    <tr>\n",
              "      <th>Bairro</th>\n",
              "      <td>object</td>\n",
              "    </tr>\n",
              "    <tr>\n",
              "      <th>Quartos</th>\n",
              "      <td>int64</td>\n",
              "    </tr>\n",
              "    <tr>\n",
              "      <th>Vagas</th>\n",
              "      <td>int64</td>\n",
              "    </tr>\n",
              "    <tr>\n",
              "      <th>Suites</th>\n",
              "      <td>int64</td>\n",
              "    </tr>\n",
              "    <tr>\n",
              "      <th>Area</th>\n",
              "      <td>int64</td>\n",
              "    </tr>\n",
              "    <tr>\n",
              "      <th>Valor</th>\n",
              "      <td>float64</td>\n",
              "    </tr>\n",
              "    <tr>\n",
              "      <th>Condominio</th>\n",
              "      <td>float64</td>\n",
              "    </tr>\n",
              "    <tr>\n",
              "      <th>IPTU</th>\n",
              "      <td>float64</td>\n",
              "    </tr>\n",
              "  </tbody>\n",
              "</table>\n",
              "</div>"
            ],
            "text/plain": [
              "Variáveis  Tipos de Dados\n",
              "Tipo               object\n",
              "Bairro             object\n",
              "Quartos             int64\n",
              "Vagas               int64\n",
              "Suites              int64\n",
              "Area                int64\n",
              "Valor             float64\n",
              "Condominio        float64\n",
              "IPTU              float64"
            ]
          },
          "metadata": {
            "tags": []
          },
          "execution_count": 18
        }
      ]
    },
    {
      "metadata": {
        "id": "sJll4cnJSqiw",
        "colab_type": "code",
        "colab": {},
        "outputId": "d68defe8-d680-4f8d-badd-1a185948e4f4"
      },
      "cell_type": "code",
      "source": [
        "dados.shape"
      ],
      "execution_count": 0,
      "outputs": [
        {
          "output_type": "execute_result",
          "data": {
            "text/plain": [
              "(32960, 9)"
            ]
          },
          "metadata": {
            "tags": []
          },
          "execution_count": 19
        }
      ]
    },
    {
      "metadata": {
        "id": "ecFQqRXASqi5",
        "colab_type": "code",
        "colab": {}
      },
      "cell_type": "code",
      "source": [
        ""
      ],
      "execution_count": 0,
      "outputs": []
    }
  ]
}