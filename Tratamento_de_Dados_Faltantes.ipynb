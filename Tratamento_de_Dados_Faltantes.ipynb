{
  "nbformat": 4,
  "nbformat_minor": 0,
  "metadata": {
    "colab": {
      "name": "Tratamento de Dados Faltantes.ipynb",
      "version": "0.3.2",
      "provenance": [],
      "include_colab_link": true
    },
    "kernelspec": {
      "display_name": "Python 3",
      "language": "python",
      "name": "python3"
    }
  },
  "cells": [
    {
      "cell_type": "markdown",
      "metadata": {
        "id": "view-in-github",
        "colab_type": "text"
      },
      "source": [
        "<a href=\"https://colab.research.google.com/github/Davholl/Data-Science/blob/master/Tratamento_de_Dados_Faltantes.ipynb\" target=\"_parent\"><img src=\"https://colab.research.google.com/assets/colab-badge.svg\" alt=\"Open In Colab\"/></a>"
      ]
    },
    {
      "metadata": {
        "id": "F_vR6xCPSiyB",
        "colab_type": "text"
      },
      "cell_type": "markdown",
      "source": [
        "# Relatório de Análise V"
      ]
    },
    {
      "metadata": {
        "id": "GAOpbLj1SiyL",
        "colab_type": "text"
      },
      "cell_type": "markdown",
      "source": [
        "## Tratamento de Dados Faltantes"
      ]
    },
    {
      "metadata": {
        "id": "j3pU-FcfSiyQ",
        "colab_type": "code",
        "colab": {}
      },
      "cell_type": "code",
      "source": [
        "import pandas as pd"
      ],
      "execution_count": 0,
      "outputs": []
    },
    {
      "metadata": {
        "id": "SZFNjdc5Siyf",
        "colab_type": "code",
        "colab": {}
      },
      "cell_type": "code",
      "source": [
        "dados = pd.read_csv('aluguel.csv', sep=';')"
      ],
      "execution_count": 0,
      "outputs": []
    },
    {
      "metadata": {
        "id": "LUkFn1VMSiyr",
        "colab_type": "code",
        "colab": {},
        "outputId": "dad131b4-b5c4-4460-9842-2b4cc6691bd0"
      },
      "cell_type": "code",
      "source": [
        "dados.info()"
      ],
      "execution_count": 0,
      "outputs": [
        {
          "output_type": "stream",
          "text": [
            "<class 'pandas.core.frame.DataFrame'>\n",
            "RangeIndex: 32960 entries, 0 to 32959\n",
            "Data columns (total 9 columns):\n",
            "Tipo          32960 non-null object\n",
            "Bairro        32960 non-null object\n",
            "Quartos       32960 non-null int64\n",
            "Vagas         32960 non-null int64\n",
            "Suites        32960 non-null int64\n",
            "Area          32960 non-null int64\n",
            "Valor         32943 non-null float64\n",
            "Condominio    28867 non-null float64\n",
            "IPTU          22723 non-null float64\n",
            "dtypes: float64(3), int64(4), object(2)\n",
            "memory usage: 2.3+ MB\n"
          ],
          "name": "stdout"
        }
      ]
    },
    {
      "metadata": {
        "id": "vNV-ZYyHSiy9",
        "colab_type": "code",
        "colab": {},
        "outputId": "e81972c1-a64a-4059-f2d1-d9b8845d98c0"
      },
      "cell_type": "code",
      "source": [
        "dados[dados['Valor'].isnull()]"
      ],
      "execution_count": 0,
      "outputs": [
        {
          "output_type": "execute_result",
          "data": {
            "text/html": [
              "<div>\n",
              "<style scoped>\n",
              "    .dataframe tbody tr th:only-of-type {\n",
              "        vertical-align: middle;\n",
              "    }\n",
              "\n",
              "    .dataframe tbody tr th {\n",
              "        vertical-align: top;\n",
              "    }\n",
              "\n",
              "    .dataframe thead th {\n",
              "        text-align: right;\n",
              "    }\n",
              "</style>\n",
              "<table border=\"1\" class=\"dataframe\">\n",
              "  <thead>\n",
              "    <tr style=\"text-align: right;\">\n",
              "      <th></th>\n",
              "      <th>Tipo</th>\n",
              "      <th>Bairro</th>\n",
              "      <th>Quartos</th>\n",
              "      <th>Vagas</th>\n",
              "      <th>Suites</th>\n",
              "      <th>Area</th>\n",
              "      <th>Valor</th>\n",
              "      <th>Condominio</th>\n",
              "      <th>IPTU</th>\n",
              "    </tr>\n",
              "  </thead>\n",
              "  <tbody>\n",
              "    <tr>\n",
              "      <th>76</th>\n",
              "      <td>Apartamento</td>\n",
              "      <td>Barra da Tijuca</td>\n",
              "      <td>2</td>\n",
              "      <td>1</td>\n",
              "      <td>1</td>\n",
              "      <td>70</td>\n",
              "      <td>NaN</td>\n",
              "      <td>970.0</td>\n",
              "      <td>68.0</td>\n",
              "    </tr>\n",
              "    <tr>\n",
              "      <th>2186</th>\n",
              "      <td>Apartamento</td>\n",
              "      <td>Leme</td>\n",
              "      <td>2</td>\n",
              "      <td>0</td>\n",
              "      <td>0</td>\n",
              "      <td>75</td>\n",
              "      <td>NaN</td>\n",
              "      <td>878.0</td>\n",
              "      <td>NaN</td>\n",
              "    </tr>\n",
              "    <tr>\n",
              "      <th>2456</th>\n",
              "      <td>Casa</td>\n",
              "      <td>Campo Grande</td>\n",
              "      <td>3</td>\n",
              "      <td>4</td>\n",
              "      <td>3</td>\n",
              "      <td>363</td>\n",
              "      <td>NaN</td>\n",
              "      <td>NaN</td>\n",
              "      <td>NaN</td>\n",
              "    </tr>\n",
              "    <tr>\n",
              "      <th>2646</th>\n",
              "      <td>Loja/Salão</td>\n",
              "      <td>Barra da Tijuca</td>\n",
              "      <td>0</td>\n",
              "      <td>2</td>\n",
              "      <td>0</td>\n",
              "      <td>80</td>\n",
              "      <td>NaN</td>\n",
              "      <td>NaN</td>\n",
              "      <td>NaN</td>\n",
              "    </tr>\n",
              "    <tr>\n",
              "      <th>2941</th>\n",
              "      <td>Apartamento</td>\n",
              "      <td>Botafogo</td>\n",
              "      <td>2</td>\n",
              "      <td>0</td>\n",
              "      <td>0</td>\n",
              "      <td>95</td>\n",
              "      <td>NaN</td>\n",
              "      <td>1010.0</td>\n",
              "      <td>170.0</td>\n",
              "    </tr>\n",
              "    <tr>\n",
              "      <th>2973</th>\n",
              "      <td>Apartamento</td>\n",
              "      <td>Copacabana</td>\n",
              "      <td>2</td>\n",
              "      <td>0</td>\n",
              "      <td>0</td>\n",
              "      <td>72</td>\n",
              "      <td>NaN</td>\n",
              "      <td>850.0</td>\n",
              "      <td>NaN</td>\n",
              "    </tr>\n",
              "    <tr>\n",
              "      <th>6598</th>\n",
              "      <td>Loja/Salão</td>\n",
              "      <td>Andaraí</td>\n",
              "      <td>0</td>\n",
              "      <td>0</td>\n",
              "      <td>0</td>\n",
              "      <td>326</td>\n",
              "      <td>NaN</td>\n",
              "      <td>NaN</td>\n",
              "      <td>1140.0</td>\n",
              "    </tr>\n",
              "    <tr>\n",
              "      <th>7302</th>\n",
              "      <td>Casa</td>\n",
              "      <td>Campo Grande</td>\n",
              "      <td>3</td>\n",
              "      <td>2</td>\n",
              "      <td>1</td>\n",
              "      <td>100</td>\n",
              "      <td>NaN</td>\n",
              "      <td>NaN</td>\n",
              "      <td>NaN</td>\n",
              "    </tr>\n",
              "    <tr>\n",
              "      <th>12683</th>\n",
              "      <td>Apartamento</td>\n",
              "      <td>Leme</td>\n",
              "      <td>2</td>\n",
              "      <td>0</td>\n",
              "      <td>1</td>\n",
              "      <td>75</td>\n",
              "      <td>NaN</td>\n",
              "      <td>878.0</td>\n",
              "      <td>NaN</td>\n",
              "    </tr>\n",
              "    <tr>\n",
              "      <th>13229</th>\n",
              "      <td>Apartamento</td>\n",
              "      <td>Glória</td>\n",
              "      <td>3</td>\n",
              "      <td>0</td>\n",
              "      <td>1</td>\n",
              "      <td>135</td>\n",
              "      <td>NaN</td>\n",
              "      <td>910.0</td>\n",
              "      <td>228.0</td>\n",
              "    </tr>\n",
              "    <tr>\n",
              "      <th>13525</th>\n",
              "      <td>Apartamento</td>\n",
              "      <td>Gávea</td>\n",
              "      <td>3</td>\n",
              "      <td>1</td>\n",
              "      <td>1</td>\n",
              "      <td>105</td>\n",
              "      <td>NaN</td>\n",
              "      <td>880.0</td>\n",
              "      <td>221.0</td>\n",
              "    </tr>\n",
              "    <tr>\n",
              "      <th>13579</th>\n",
              "      <td>Conjunto Comercial/Sala</td>\n",
              "      <td>Botafogo</td>\n",
              "      <td>0</td>\n",
              "      <td>3</td>\n",
              "      <td>0</td>\n",
              "      <td>200</td>\n",
              "      <td>NaN</td>\n",
              "      <td>10.0</td>\n",
              "      <td>NaN</td>\n",
              "    </tr>\n",
              "    <tr>\n",
              "      <th>20948</th>\n",
              "      <td>Conjunto Comercial/Sala</td>\n",
              "      <td>Freguesia (Jacarepaguá)</td>\n",
              "      <td>0</td>\n",
              "      <td>1</td>\n",
              "      <td>0</td>\n",
              "      <td>24</td>\n",
              "      <td>NaN</td>\n",
              "      <td>500.0</td>\n",
              "      <td>74.0</td>\n",
              "    </tr>\n",
              "    <tr>\n",
              "      <th>21822</th>\n",
              "      <td>Loja Shopping/ Ct Comercial</td>\n",
              "      <td>Barra da Tijuca</td>\n",
              "      <td>0</td>\n",
              "      <td>2</td>\n",
              "      <td>0</td>\n",
              "      <td>77</td>\n",
              "      <td>NaN</td>\n",
              "      <td>3600.0</td>\n",
              "      <td>1390.0</td>\n",
              "    </tr>\n",
              "    <tr>\n",
              "      <th>23056</th>\n",
              "      <td>Conjunto Comercial/Sala</td>\n",
              "      <td>Botafogo</td>\n",
              "      <td>0</td>\n",
              "      <td>0</td>\n",
              "      <td>0</td>\n",
              "      <td>900</td>\n",
              "      <td>NaN</td>\n",
              "      <td>10.0</td>\n",
              "      <td>NaN</td>\n",
              "    </tr>\n",
              "    <tr>\n",
              "      <th>24805</th>\n",
              "      <td>Conjunto Comercial/Sala</td>\n",
              "      <td>Botafogo</td>\n",
              "      <td>0</td>\n",
              "      <td>0</td>\n",
              "      <td>0</td>\n",
              "      <td>500</td>\n",
              "      <td>NaN</td>\n",
              "      <td>10.0</td>\n",
              "      <td>NaN</td>\n",
              "    </tr>\n",
              "    <tr>\n",
              "      <th>29166</th>\n",
              "      <td>Conjunto Comercial/Sala</td>\n",
              "      <td>Botafogo</td>\n",
              "      <td>0</td>\n",
              "      <td>1</td>\n",
              "      <td>0</td>\n",
              "      <td>50</td>\n",
              "      <td>NaN</td>\n",
              "      <td>10.0</td>\n",
              "      <td>NaN</td>\n",
              "    </tr>\n",
              "  </tbody>\n",
              "</table>\n",
              "</div>"
            ],
            "text/plain": [
              "                              Tipo                   Bairro  Quartos  Vagas  \\\n",
              "76                     Apartamento          Barra da Tijuca        2      1   \n",
              "2186                   Apartamento                     Leme        2      0   \n",
              "2456                          Casa             Campo Grande        3      4   \n",
              "2646                    Loja/Salão          Barra da Tijuca        0      2   \n",
              "2941                   Apartamento                 Botafogo        2      0   \n",
              "2973                   Apartamento               Copacabana        2      0   \n",
              "6598                    Loja/Salão                  Andaraí        0      0   \n",
              "7302                          Casa             Campo Grande        3      2   \n",
              "12683                  Apartamento                     Leme        2      0   \n",
              "13229                  Apartamento                   Glória        3      0   \n",
              "13525                  Apartamento                    Gávea        3      1   \n",
              "13579      Conjunto Comercial/Sala                 Botafogo        0      3   \n",
              "20948      Conjunto Comercial/Sala  Freguesia (Jacarepaguá)        0      1   \n",
              "21822  Loja Shopping/ Ct Comercial          Barra da Tijuca        0      2   \n",
              "23056      Conjunto Comercial/Sala                 Botafogo        0      0   \n",
              "24805      Conjunto Comercial/Sala                 Botafogo        0      0   \n",
              "29166      Conjunto Comercial/Sala                 Botafogo        0      1   \n",
              "\n",
              "       Suites  Area  Valor  Condominio    IPTU  \n",
              "76          1    70    NaN       970.0    68.0  \n",
              "2186        0    75    NaN       878.0     NaN  \n",
              "2456        3   363    NaN         NaN     NaN  \n",
              "2646        0    80    NaN         NaN     NaN  \n",
              "2941        0    95    NaN      1010.0   170.0  \n",
              "2973        0    72    NaN       850.0     NaN  \n",
              "6598        0   326    NaN         NaN  1140.0  \n",
              "7302        1   100    NaN         NaN     NaN  \n",
              "12683       1    75    NaN       878.0     NaN  \n",
              "13229       1   135    NaN       910.0   228.0  \n",
              "13525       1   105    NaN       880.0   221.0  \n",
              "13579       0   200    NaN        10.0     NaN  \n",
              "20948       0    24    NaN       500.0    74.0  \n",
              "21822       0    77    NaN      3600.0  1390.0  \n",
              "23056       0   900    NaN        10.0     NaN  \n",
              "24805       0   500    NaN        10.0     NaN  \n",
              "29166       0    50    NaN        10.0     NaN  "
            ]
          },
          "metadata": {
            "tags": []
          },
          "execution_count": 21
        }
      ]
    },
    {
      "metadata": {
        "id": "tI-b9UhlSizJ",
        "colab_type": "code",
        "colab": {},
        "outputId": "4825f32c-fcc8-496e-de69-0fe0ad561442"
      },
      "cell_type": "code",
      "source": [
        "A = dados.shape[0]\n",
        "dados.dropna(subset = ['Valor'], inplace = True)\n",
        "B = dados.shape[0]\n",
        "A - B"
      ],
      "execution_count": 0,
      "outputs": [
        {
          "output_type": "execute_result",
          "data": {
            "text/plain": [
              "17"
            ]
          },
          "metadata": {
            "tags": []
          },
          "execution_count": 22
        }
      ]
    },
    {
      "metadata": {
        "id": "eDUDep0dSizV",
        "colab_type": "code",
        "colab": {}
      },
      "cell_type": "code",
      "source": [
        ""
      ],
      "execution_count": 0,
      "outputs": []
    },
    {
      "metadata": {
        "id": "bVaSnhdpSizg",
        "colab_type": "code",
        "colab": {},
        "outputId": "c26743a2-1224-4a01-8b3c-577508f951ba"
      },
      "cell_type": "code",
      "source": [
        "dados[dados['Condominio'].isnull()].shape[0]"
      ],
      "execution_count": 0,
      "outputs": [
        {
          "output_type": "execute_result",
          "data": {
            "text/plain": [
              "4089"
            ]
          },
          "metadata": {
            "tags": []
          },
          "execution_count": 23
        }
      ]
    },
    {
      "metadata": {
        "id": "NCTlyzTfSiz1",
        "colab_type": "code",
        "colab": {},
        "outputId": "e6da12a3-5fde-467c-c096-3d938a535fd3"
      },
      "cell_type": "code",
      "source": [
        "dados[dados['Condominio'].isnull()].shape[0]"
      ],
      "execution_count": 0,
      "outputs": [
        {
          "output_type": "execute_result",
          "data": {
            "text/plain": [
              "4089"
            ]
          },
          "metadata": {
            "tags": []
          },
          "execution_count": 25
        }
      ]
    },
    {
      "metadata": {
        "id": "15zp8v4aSi0M",
        "colab_type": "code",
        "colab": {}
      },
      "cell_type": "code",
      "source": [
        "selecao = (dados['Tipo'] == 'Apartamento') & (dados['Condominio'].isnull())"
      ],
      "execution_count": 0,
      "outputs": []
    },
    {
      "metadata": {
        "id": "-jMJp_n-Si0V",
        "colab_type": "code",
        "colab": {},
        "outputId": "0fc9232e-8570-47e0-ee53-94d36da8c108"
      },
      "cell_type": "code",
      "source": [
        "A = dados.shape[0]\n",
        "dados = dados[~selecao]\n",
        "B = dados.shape[0]\n",
        "A - B"
      ],
      "execution_count": 0,
      "outputs": [
        {
          "output_type": "execute_result",
          "data": {
            "text/plain": [
              "745"
            ]
          },
          "metadata": {
            "tags": []
          },
          "execution_count": 28
        }
      ]
    },
    {
      "metadata": {
        "id": "-NPKdYWeSi0g",
        "colab_type": "code",
        "colab": {}
      },
      "cell_type": "code",
      "source": [
        "dados.fillna(0, inplace = True)"
      ],
      "execution_count": 0,
      "outputs": []
    },
    {
      "metadata": {
        "id": "aKtta0BdSi0q",
        "colab_type": "code",
        "colab": {},
        "outputId": "04675351-2086-4d11-d74b-9ae66bd19284"
      },
      "cell_type": "code",
      "source": [
        "dados.info()"
      ],
      "execution_count": 0,
      "outputs": [
        {
          "output_type": "stream",
          "text": [
            "<class 'pandas.core.frame.DataFrame'>\n",
            "RangeIndex: 32960 entries, 0 to 32959\n",
            "Data columns (total 9 columns):\n",
            "Tipo          32960 non-null object\n",
            "Bairro        32960 non-null object\n",
            "Quartos       32960 non-null int64\n",
            "Vagas         32960 non-null int64\n",
            "Suites        32960 non-null int64\n",
            "Area          32960 non-null int64\n",
            "Valor         32960 non-null float64\n",
            "Condominio    32960 non-null float64\n",
            "IPTU          32960 non-null float64\n",
            "dtypes: float64(3), int64(4), object(2)\n",
            "memory usage: 2.3+ MB\n"
          ],
          "name": "stdout"
        }
      ]
    },
    {
      "metadata": {
        "id": "IvPX_PLFSi01",
        "colab_type": "code",
        "colab": {}
      },
      "cell_type": "code",
      "source": [
        "dados.to_csv('aluguel_residencial.csv', sep=';', index=False)"
      ],
      "execution_count": 0,
      "outputs": []
    },
    {
      "metadata": {
        "id": "iPwB-eJ2Si1B",
        "colab_type": "code",
        "colab": {}
      },
      "cell_type": "code",
      "source": [
        ""
      ],
      "execution_count": 0,
      "outputs": []
    }
  ]
}